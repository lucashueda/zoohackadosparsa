{
 "cells": [
  {
   "cell_type": "code",
   "execution_count": 19,
   "metadata": {},
   "outputs": [],
   "source": [
    "#!/usr/bin/env python\n",
    "# coding: utf-8\n",
    "\n",
    "import os\n",
    "from azure.cognitiveservices.vision.customvision.prediction import CustomVisionPredictionClient\n",
    "from azure.cognitiveservices.vision.customvision.training.models import ImageFileCreateEntry\n",
    "import urllib3\n",
    "\n",
    "global project_id, predictor, publish_iteration_name\n",
    "\n",
    "urllib3.disable_warnings(urllib3.exceptions.InsecureRequestWarning)\n",
    "\n",
    "folder = \"C:\\\\Users\\\\massa\\\\Documents\\\\zoohackadosparsa\\\\Imagens\\\\Testes\\\\\"\n",
    "\n",
    "ENDPOINT = \"https://southcentralus.api.cognitive.microsoft.com/\"\n",
    "\n",
    "# Replace with a valid key\n",
    "prediction_key =\"90f450b8b0e54914ac6b6ab84474d445\"\n",
    "prediction_resource_id = \"/subscriptions/15fcdbb1-44c2-45b4-bcd5-b6d1ae0e5aad/resourceGroups/ZooHack/providers/Microsoft.CognitiveServices/accounts/ZooHackathon\"\n",
    "project_id = \"bc6aa156-c15c-4033-a406-7b1b3eea8e2d\"\n",
    "publish_iteration_name = \"Iteration6\"\n",
    "\n",
    "predictor = CustomVisionPredictionClient(prediction_key, endpoint=ENDPOINT)\n",
    "\n"
   ]
  },
  {
   "cell_type": "code",
   "execution_count": 29,
   "metadata": {},
   "outputs": [],
   "source": [
    "def species_predict(file_path):\n",
    "    global project_id, predictor, publish_iteration_name\n",
    "    try:\n",
    "        pred = \"\"\n",
    "        with open(file_path, \"rb\") as image_contents:\n",
    "            results = predictor.classify_image(project_id, publish_iteration_name, image_contents.read(),verify=False)\n",
    "            for prediction in results.predictions[0:3]:\n",
    "                pred += \"\\t\" + prediction.tag_name + \": {0:.2f}%\\r\\n\".format(prediction.probability * 100)\n",
    "            return pred                    \n",
    "    except Exception as error:\n",
    "        print(error)\n",
    "        return \"Imagem não pode ser lida\""
   ]
  }
 ],
 "metadata": {
  "kernelspec": {
   "display_name": "Python 3",
   "language": "python",
   "name": "python3"
  },
  "language_info": {
   "codemirror_mode": {
    "name": "ipython",
    "version": 3
   },
   "file_extension": ".py",
   "mimetype": "text/x-python",
   "name": "python",
   "nbconvert_exporter": "python",
   "pygments_lexer": "ipython3",
   "version": "3.7.3"
  }
 },
 "nbformat": 4,
 "nbformat_minor": 2
}
