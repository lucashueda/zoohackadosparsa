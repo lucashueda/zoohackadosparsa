{
 "cells": [
  {
   "cell_type": "code",
   "execution_count": 1,
   "metadata": {},
   "outputs": [],
   "source": [
    "import selenium\n",
    "import pandas as pd"
   ]
  },
  {
   "cell_type": "code",
   "execution_count": 2,
   "metadata": {},
   "outputs": [],
   "source": [
    "import os\n",
    "import numpy as np\n",
    "from google_images_download import google_images_download"
   ]
  },
  {
   "cell_type": "code",
   "execution_count": 41,
   "metadata": {},
   "outputs": [],
   "source": [
    "folder = \"C:\\\\Users\\\\massa\\\\Documents\\\\zoohackadosparsa\\\\\"\n",
    "file = \"especies_validacao.csv\""
   ]
  },
  {
   "cell_type": "code",
   "execution_count": 42,
   "metadata": {},
   "outputs": [
    {
     "data": {
      "text/plain": [
       "['.git',\n",
       " '.ipynb_checkpoints',\n",
       " 'especies.csv',\n",
       " 'especies_aves_extincao.csv',\n",
       " 'especies_validacao.csv',\n",
       " 'Imagens',\n",
       " 'README.md',\n",
       " 'Scrapper.ipynb',\n",
       " 'Scrapper_Config',\n",
       " 'tutorial_git_activate.png']"
      ]
     },
     "execution_count": 42,
     "metadata": {},
     "output_type": "execute_result"
    }
   ],
   "source": [
    "os.listdir(folder)"
   ]
  },
  {
   "cell_type": "code",
   "execution_count": 46,
   "metadata": {},
   "outputs": [],
   "source": [
    "df = pd.read_csv(folder+file, header=None, names=[\"nome_c\"])"
   ]
  },
  {
   "cell_type": "code",
   "execution_count": 47,
   "metadata": {},
   "outputs": [
    {
     "data": {
      "text/html": [
       "<div>\n",
       "<style scoped>\n",
       "    .dataframe tbody tr th:only-of-type {\n",
       "        vertical-align: middle;\n",
       "    }\n",
       "\n",
       "    .dataframe tbody tr th {\n",
       "        vertical-align: top;\n",
       "    }\n",
       "\n",
       "    .dataframe thead th {\n",
       "        text-align: right;\n",
       "    }\n",
       "</style>\n",
       "<table border=\"1\" class=\"dataframe\">\n",
       "  <thead>\n",
       "    <tr style=\"text-align: right;\">\n",
       "      <th></th>\n",
       "      <th>nome_c</th>\n",
       "    </tr>\n",
       "  </thead>\n",
       "  <tbody>\n",
       "    <tr>\n",
       "      <th>0</th>\n",
       "      <td>Sicalis flaveola</td>\n",
       "    </tr>\n",
       "    <tr>\n",
       "      <th>1</th>\n",
       "      <td>Saltator similis</td>\n",
       "    </tr>\n",
       "    <tr>\n",
       "      <th>2</th>\n",
       "      <td>Sporophila caerulescens</td>\n",
       "    </tr>\n",
       "    <tr>\n",
       "      <th>3</th>\n",
       "      <td>Cyanoloxia brissonii</td>\n",
       "    </tr>\n",
       "    <tr>\n",
       "      <th>4</th>\n",
       "      <td>Sporophila angolensis</td>\n",
       "    </tr>\n",
       "    <tr>\n",
       "      <th>5</th>\n",
       "      <td>Gnorimopsar chopi</td>\n",
       "    </tr>\n",
       "    <tr>\n",
       "      <th>6</th>\n",
       "      <td>Gallus gallus</td>\n",
       "    </tr>\n",
       "    <tr>\n",
       "      <th>7</th>\n",
       "      <td>Paroaria dominicana</td>\n",
       "    </tr>\n",
       "    <tr>\n",
       "      <th>8</th>\n",
       "      <td>Zonotrichia capensis</td>\n",
       "    </tr>\n",
       "    <tr>\n",
       "      <th>9</th>\n",
       "      <td>Sporophila nigricollis</td>\n",
       "    </tr>\n",
       "    <tr>\n",
       "      <th>10</th>\n",
       "      <td>Sporophila collaris</td>\n",
       "    </tr>\n",
       "    <tr>\n",
       "      <th>11</th>\n",
       "      <td>Amazona aestiva</td>\n",
       "    </tr>\n",
       "    <tr>\n",
       "      <th>12</th>\n",
       "      <td>Turdus rufiventris</td>\n",
       "    </tr>\n",
       "    <tr>\n",
       "      <th>13</th>\n",
       "      <td>Sporophila lineola</td>\n",
       "    </tr>\n",
       "    <tr>\n",
       "      <th>14</th>\n",
       "      <td>Paroaria sp.</td>\n",
       "    </tr>\n",
       "    <tr>\n",
       "      <th>15</th>\n",
       "      <td>Zenaida auriculata A</td>\n",
       "    </tr>\n",
       "    <tr>\n",
       "      <th>16</th>\n",
       "      <td>Sporophila albogularis</td>\n",
       "    </tr>\n",
       "    <tr>\n",
       "      <th>17</th>\n",
       "      <td>Sporagra magellanica</td>\n",
       "    </tr>\n",
       "    <tr>\n",
       "      <th>18</th>\n",
       "      <td>Icterus jamacaii</td>\n",
       "    </tr>\n",
       "    <tr>\n",
       "      <th>19</th>\n",
       "      <td>Sporophila maximiliani</td>\n",
       "    </tr>\n",
       "  </tbody>\n",
       "</table>\n",
       "</div>"
      ],
      "text/plain": [
       "                     nome_c\n",
       "0          Sicalis flaveola\n",
       "1          Saltator similis\n",
       "2   Sporophila caerulescens\n",
       "3      Cyanoloxia brissonii\n",
       "4     Sporophila angolensis\n",
       "5         Gnorimopsar chopi\n",
       "6             Gallus gallus\n",
       "7       Paroaria dominicana\n",
       "8      Zonotrichia capensis\n",
       "9    Sporophila nigricollis\n",
       "10      Sporophila collaris\n",
       "11          Amazona aestiva\n",
       "12       Turdus rufiventris\n",
       "13       Sporophila lineola\n",
       "14             Paroaria sp.\n",
       "15     Zenaida auriculata A\n",
       "16   Sporophila albogularis\n",
       "17     Sporagra magellanica\n",
       "18         Icterus jamacaii\n",
       "19   Sporophila maximiliani"
      ]
     },
     "execution_count": 47,
     "metadata": {},
     "output_type": "execute_result"
    }
   ],
   "source": [
    "df"
   ]
  },
  {
   "cell_type": "code",
   "execution_count": 18,
   "metadata": {},
   "outputs": [],
   "source": [
    "#df[\"nome_c\"] = df.Especie.apply(lambda s: s.split(\" (\")[0])"
   ]
  },
  {
   "cell_type": "code",
   "execution_count": 37,
   "metadata": {},
   "outputs": [],
   "source": [
    "#df_teste = df[\"nome_c\"].sample(10, random_state=42)"
   ]
  },
  {
   "cell_type": "code",
   "execution_count": 51,
   "metadata": {
    "scrolled": true
   },
   "outputs": [
    {
     "name": "stdout",
     "output_type": "stream",
     "text": [
      "Sicalis flaveola\n",
      "Saltator similis\n",
      "Sporophila caerulescens\n",
      "Cyanoloxia brissonii\n",
      "Sporophila angolensis\n",
      "Gnorimopsar chopi\n",
      "Gallus gallus\n",
      "Paroaria dominicana\n",
      "Zonotrichia capensis\n",
      "Sporophila nigricollis\n",
      "Sporophila collaris\n",
      "Amazona aestiva\n",
      "Turdus rufiventris\n",
      "Sporophila lineola\n",
      "Paroaria sp.\n",
      "Zenaida auriculata A\n",
      "Sporophila albogularis\n",
      "Sporagra magellanica\n",
      "Icterus jamacaii\n",
      "Sporophila maximiliani\n"
     ]
    }
   ],
   "source": [
    "for i in df[\"nome_c\"]:\n",
    "    print(i)"
   ]
  },
  {
   "cell_type": "code",
   "execution_count": 52,
   "metadata": {},
   "outputs": [],
   "source": [
    "response = google_images_download.googleimagesdownload()"
   ]
  },
  {
   "cell_type": "code",
   "execution_count": null,
   "metadata": {},
   "outputs": [
    {
     "name": "stdout",
     "output_type": "stream",
     "text": [
      "\n",
      "Item no.: 1 --> Item name = Sicalis flaveola\n",
      "Evaluating...\n",
      "Starting Download...\n",
      "Completed Image ====> 1.1173331_9c025ae2fb2b87a16ed0f5205d5e7fae.jpg\n",
      "Completed Image ====> 2.501089r_b4e91f9e9e8b59241f7a8ddbfadd4c11.jpg\n",
      "Completed Image ====> 3.2393653r_840705424f91c90bd8be1254342a4478.jpg\n",
      "Completed Image ====> 4.620647r_113a5e803cd2ef498a395d89702992c3.jpg\n",
      "Completed Image ====> 5.Saffron_finch_%28Sicalis_flaveola%29_27.jpg\n",
      "Completed Image ====> 6.309133r_a79f3c59c08c8811e91ca7e913df93fa.jpg\n",
      "Completed Image ====> 7.703124r_d1bf4ac8cae82b323e001d7cc706eadd.jpg\n",
      "Completed Image ====> 8.800px-Saffron_finch_%28Sicalis_flaveola%29_male.JPG\n",
      "Completed Image ====> 9.16_61_232_Sicalis_flaveola_flaveola_m.jpg\n",
      "Completed Image ====> 10.1966514r_62aa2f46eeccff14a390175069526d34.jpg\n",
      "Completed Image ====> 11.40850241981_c9cdb91898_b.jpg\n",
      "Completed Image ====> 12.471010r_28262a62b4ceeca1618b9ae0634a5eb6.jpg\n",
      "Completed Image ====> 13.sicalis-flaveola.jpg\n",
      "Completed Image ====> 14.62689694-saffron-finch-sicalis-flaveola-tanager-eating-corn-in-ecuador-south-america.jpg\n",
      "Completed Image ====> 15.3749541694_9a8fd1a777_b.jpg\n",
      "Completed Image ====> 16.sicalis-flaveola-5d87f7ea330fe.jpg\n",
      "Completed Image ====> 17.Figura-12-Canario-da-terra-Sicalis-flaveola-Foto-Plinio-Senna.png\n",
      "Completed Image ====> 18.gabriel1.png\n",
      "Completed Image ====> 19.7d2a195920a49f5e6e56188b3c99c224.jpg\n",
      "Completed Image ====> 20.210253-219538-1139118-canario-da-terra-sicalis-flaveola-brasiliensis-.jpg\n",
      "Completed Image ====> 21.00-ER-DSCN2215-PG-LasMarias.jpg\n",
      "Completed Image ====> 22.depositphotos_145237979-stock-photo-sicalis-flaveola-on-the-ground.jpg\n",
      "Completed Image ====> 23.Saffron-Finch-207x300.jpg\n",
      "Completed Image ====> 24.img_4146_sicalis_flaveola_fem_and_male.jpg\n",
      "Completed Image ====> 25.3792704356_d575471a68_b.jpg\n",
      "Completed Image ====> 26.753361r_be063d9f902fb66e8e8852bd54428abe.jpg\n",
      "Completed Image ====> 27.sicalis-flaveola-5bb41143484d4.jpg\n",
      "Completed Image ====> 28.Sicalis_flaveola_%28Canario_coronado%29_%2814260583939%29.jpg\n",
      "Completed Image ====> 29.Sicalis_flaveola_%28by_Dario_Sanches%29.jpg\n",
      "Completed Image ====> 30.4f99fcea0e28d3e8b801809d2c899f34.jpg\n",
      "Completed Image ====> 31.4424630972_9ffb878368_b.jpg\n",
      "Completed Image ====> 32.maxresdefault.jpg\n",
      "Completed Image ====> 33.saffron-finch-sicalis-flaveola-5.gif\n",
      "Invalid or missing image format. Skipping...\n",
      "Completed Image ====> 34.95577183-saffron-finch-sicalis-flaveola-collecting-seeds-rear-view.jpg\n",
      "Completed Image ====> 35.919571r_0f19f849314c00caa26f43654da90b90.jpg\n",
      "Completed Image ====> 36.canario-pardo-amarelo-claro.jpg\n",
      "Completed Image ====> 37.Sicalis%20flaveola.jpg\n",
      "Completed Image ====> 38.Can%C3%A1rio-da-terra-verdadeiro_%28Sicalis_flaveola%29_-_Saffron_Finch.jpg\n",
      "Completed Image ====> 39.Sicalis-flaveola.jpg\n",
      "Completed Image ====> 40.3073925497_b4016874b1_b.jpg\n",
      "Completed Image ====> 41.depositphotos_125474836-stock-photo-saffron-finch-sicalis-flaveola.jpg\n",
      "Completed Image ====> 42.0002040_zoom_canario-da-terra-verdadeiro-canarinho-da-terra-sicalis-flaveola-passaro-regiao-missoes-ave-brasileira-fone-hotel-restaurante-0.jpg\n",
      "Completed Image ====> 43.bd956e5fafb4e830bb0b1080fa2b9877.jpg\n",
      "Completed Image ====> 44.1519915648.jpg\n",
      "Completed Image ====> 45.3783897197_230de176a4.jpg\n",
      "Completed Image ====> 46.large.jpg\n",
      "Completed Image ====> 47.hqdefault.jpg\n",
      "Completed Image ====> 48.97449616-saffron-finch-sicalis-flaveola-tanager-perching-on-a-log-in-ecuador-south-america.jpg\n",
      "Completed Image ====> 49.Sicalis_flaveola%2C_PE_Carlos_Botelho%2C_S%C3%A3o_Paulo.jpg\n",
      "Completed Image ====> 50.d71b19563e3801c3e19381f62e2cce57.jpg\n",
      "Completed Image ====> 51.2241509r_86e81c2c502a11bf7e0d232138b85c17.jpg\n",
      "Completed Image ====> 52.Can%25C3%25A1rio-da-terra-verdadeiro_Sicalis%2Bflaveola%2B%2528Linnaeus%252C%2B1766%2529.jpg\n",
      "Completed Image ====> 53.Saffron_Finch_%28Sicalis_flaveola%29_%2826191645090%29.jpg\n",
      "Completed Image ====> 54.maxresdefault.jpg\n",
      "Completed Image ====> 55.3546977513_feffb7f967_b.jpg\n",
      "Completed Image ====> 56.Can%C3%A1rio-da-terra-Sicalis-flaveola.jpg\n",
      "Completed Image ====> 57.JilgueroDoradoM_MARTINGARCIA20190217_ECO.jpg\n",
      "Completed Image ====> 58.sicalis-flaveola-5d0fdd5fc04d4.jpg\n",
      "Completed Image ====> 59.depositphotos_125475012-stock-photo-saffron-finch-sicalis-flaveola.jpg\n",
      "Completed Image ====> 60.1549373765.jpg\n",
      "Completed Image ====> 61.Sicalis-flaveola-PqCaracolRS-6-10-16-ASilveira.jpg\n",
      "Completed Image ====> 62.saffron-finches-sicalis-flaveola-venda-nova-do-imigrante-espirito-santo-brazil-PR63AJ.jpg\n",
      "Completed Image ====> 63.IMG_9673.jpg\n",
      "Completed Image ====> 64.95722277-saffron-finch-sicalis-flaveola-collecting-seeds-rear-view.jpg\n",
      "Completed Image ====> 65.9863_saffron_finch_sicalis_flaveola_zaruma_el_oro_ecuador_20131219_2_1600.jpg\n",
      "Completed Image ====> 66.sicalis-flaveola-judy-kay.jpg\n",
      "Completed Image ====> 67.9444193.jpg\n",
      "Invalid or missing image format. Skipping...\n",
      "Completed Image ====> 68.canario-da-terra-verddeiro.jpg\n",
      "Completed Image ====> 69.canario-1-sicalis-flaveola.jpg\n",
      "Completed Image ====> 70._DSC0389-M.jpg\n",
      "Completed Image ====> 71.42514527652_d4b9eb1bf2_b.jpg\n",
      "Completed Image ====> 72.safron-finch-sicalis-flaveola-banco-de-imagem__u12612958.jpg\n",
      "Completed Image ====> 73.Saffron-Finch-Sicalis-flaveola.jpg\n",
      "Completed Image ====> 74.IMG_0726.JPG\n",
      "Completed Image ====> 75.sicalis-flaveola-braganca-paulista-sp.jpg\n",
      "Completed Image ====> 76.aves-sicalis-flaveolacanario-limo-verde.pro_.7a6b78-0110.jpg\n",
      "Completed Image ====> 77.canario%203.jpg\n",
      "Completed Image ====> 78.2270640r_d904b5acaab57d9f49c3fc78cb050693.jpg\n",
      "Completed Image ====> 79.1518372741.jpg\n",
      "Completed Image ====> 80.sicalis-flaveola-5c465c7f9e6d7.jpg\n",
      "Invalid or missing image format. Skipping...\n",
      "Completed Image ====> 81.saffron-finch-(sicalis-flaveola)-.jpg\n",
      "Completed Image ====> 82.Sicalis-flaveola-Can%C3%A1rio-da-terra-verdadeiro-macho-3.jpg\n",
      "Completed Image ====> 83.saffron-finch-sicalis-flaveola-standing-over-water-looking-saffron-finch-sicalis-flaveola-standing-over-water-looking-106234116.jpg\n",
      "Completed Image ====> 84.1.jpg\n",
      "Completed Image ====> 85.3436352772_db44cdce6f.jpg\n",
      "Completed Image ====> 86.maxresdefault.jpg\n",
      "Completed Image ====> 87.saffron-finch-sicalis-flaveola-looking-for-its-food-on-the-lawn-RJ3DNE.jpg\n",
      "Completed Image ====> 88.0081855_regular_canario-da-terra-verdadeiro-canarinho-da-terra-sicalis-flaveola-passaro-regiao-missoes-ave-brasileira-fone-hotel-restaurante-(8).jpg\n",
      "Completed Image ====> 89.c2d0ab9b908226c2fd2744b738a6f924.jpg\n",
      "Completed Image ====> 90.BF6E1780_Saffron_Finch.jpg\n",
      "Invalid or missing image format. Skipping...\n",
      "Completed Image ====> 91.lg-sicalis-flaveola.jpg\n",
      "Invalid or missing image format. Skipping...\n",
      "Completed Image ====> 92.48131810937_542dcbf741_b.jpg\n",
      "Completed Image ====> 93.24256695887_245d352d95_b.jpg\n",
      "Completed Image ====> 94.3407804.jpg\n",
      "URLError on an image...trying next one... Error: HTTP Error 404: Not Found\n",
      "\n",
      "\n",
      "Unfortunately all 100 could not be downloaded because some images were not downloadable. 94 is all we got for this search filter!\n",
      "\n",
      "Errors: 6\n",
      "\n",
      "\n",
      "Item no.: 1 --> Item name = Saltator similis\n",
      "Evaluating...\n",
      "Starting Download...\n",
      "Completed Image ====> 1.1562855_3fa49b4417715db80a5f191785b2b228.jpg\n",
      "Completed Image ====> 2.3113282g_64af960c958b7614bd3f1ce58cf858f1.jpg\n",
      "Completed Image ====> 3.Saltator_similis.jpg\n",
      "Completed Image ====> 4.1597426r_222eb3cdc5a3575cd7e66e25b81beca4.jpg\n",
      "Completed Image ====> 5.396797g_86bb42bac80337edc7295e71d44512e3.jpg\n",
      "Completed Image ====> 6.1444548g_0e7756f4d78e04b69ac95c2f81d9afff.jpg\n",
      "Completed Image ====> 7.2106809g_5d28a64a1def4862e5ed39ea043b2b4c.jpg\n",
      "Completed Image ====> 8.16_37_021_Saltator_similis_similis.jpg\n",
      "Completed Image ====> 9.2106809_5d28a64a1def4862e5ed39ea043b2b4c.jpg\n",
      "Completed Image ====> 10.3073465207_d56b683e1c_c.jpg\n",
      "Completed Image ====> 11.Pepitero-verdoso--Saltator-similis--19set17-Palmar.JPG\n"
     ]
    }
   ],
   "source": [
    "for esp in df[\"nome_c\"]:\n",
    "    arguments = {'keywords': esp,  'output_directory': folder+\"Imagens\\\\\", 'image_directory': esp, 'limit': 100}\n",
    "    response.download(arguments)"
   ]
  },
  {
   "cell_type": "code",
   "execution_count": 13,
   "metadata": {},
   "outputs": [
    {
     "data": {
      "text/plain": [
       "<module 'google_images_download.google_images_download' from 'c:\\\\users\\\\massa\\\\appdata\\\\local\\\\programs\\\\python\\\\python37-32\\\\lib\\\\site-packages\\\\google_images_download\\\\google_images_download.py'>"
      ]
     },
     "execution_count": 13,
     "metadata": {},
     "output_type": "execute_result"
    }
   ],
   "source": []
  },
  {
   "cell_type": "code",
   "execution_count": null,
   "metadata": {},
   "outputs": [],
   "source": []
  }
 ],
 "metadata": {
  "kernelspec": {
   "display_name": "Python 3",
   "language": "python",
   "name": "python3"
  },
  "language_info": {
   "codemirror_mode": {
    "name": "ipython",
    "version": 3
   },
   "file_extension": ".py",
   "mimetype": "text/x-python",
   "name": "python",
   "nbconvert_exporter": "python",
   "pygments_lexer": "ipython3",
   "version": "3.7.3"
  }
 },
 "nbformat": 4,
 "nbformat_minor": 2
}
